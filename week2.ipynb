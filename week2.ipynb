{
 "cells": [
  {
   "cell_type": "markdown",
   "metadata": {},
   "source": [
    "# Week Two\n",
    "## At Home Activity: Running a GWAS\n",
    "\n",
    "Genome-wide association studies allow us to identify variation (SNPs) present in one population but not in another. These populations usually consist of two groups where one group has a particular trait while the other does not. In this activity you have been given data from the 1000 genomes project.\n",
    "\n",
    "This data contains genetic information on these individuals as well as the amount of coffee they consume.\n",
    "We will analyse the data to identify if there is a genetic cause for increased (or decreased) coffee consumption!"
   ]
  },
  {
   "cell_type": "code",
   "execution_count": null,
   "metadata": {},
   "outputs": [],
   "source": [
    "#Load Libraries\n",
    "import hail as hl\n",
    "hl.init()"
   ]
  },
  {
   "cell_type": "code",
   "execution_count": null,
   "metadata": {},
   "outputs": [],
   "source": [
    "#Load other libaries\n",
    "from hail.plot import show\n",
    "from pprint import pprint\n",
    "hl.plot.output_notebook()"
   ]
  },
  {
   "cell_type": "code",
   "execution_count": null,
   "metadata": {},
   "outputs": [],
   "source": [
    "#Read in the data!\n",
    "gwasdata = hl.read_matrix_table('1kg.mt')"
   ]
  },
  {
   "cell_type": "code",
   "execution_count": null,
   "metadata": {},
   "outputs": [],
   "source": [
    "#Lets look at the data\n",
    "#our data is called gwasdata\n",
    "#the .show() function shows us a sample of the data\n",
    "#explanations of the data is contained in the booklet!\n",
    "gwasdata.show()"
   ]
  },
  {
   "cell_type": "code",
   "execution_count": null,
   "metadata": {},
   "outputs": [],
   "source": [
    "##load other data\n",
    "otherdata = (hl.import_table('1kg_annotations.txt', impute=True)\n",
    "         .key_by('Sample'))"
   ]
  },
  {
   "cell_type": "code",
   "execution_count": null,
   "metadata": {},
   "outputs": [],
   "source": [
    "#use .show() to look at otherdata\n"
   ]
  },
  {
   "cell_type": "code",
   "execution_count": null,
   "metadata": {},
   "outputs": [],
   "source": [
    "#Add phenotype data to gwasdata\n",
    "gwasdata = gwasdata.annotate_cols(pheno = otherdata[gwasdata.s])"
   ]
  },
  {
   "cell_type": "code",
   "execution_count": null,
   "metadata": {},
   "outputs": [],
   "source": [
    "#Quality Control\n",
    "gwasdata = hl.sample_qc(gwasdata)\n",
    "#Show plot\n",
    "plot = hl.plot.histogram(gwasdata.sample_qc.call_rate, range=(.88,1), legend='Call Rate')\n",
    "show(plot)"
   ]
  },
  {
   "cell_type": "code",
   "execution_count": null,
   "metadata": {},
   "outputs": [],
   "source": [
    "#Remove outliers if necessary\n",
    "gwasdata = gwasdata.filter_cols((gwasdata.sample_qc.dp_stats.mean >= 4) & (gwasdata.sample_qc.call_rate >= 0.97))\n",
    "print('After filter, %d/284 samples remain.' % gwasdata.count_cols())"
   ]
  },
  {
   "cell_type": "code",
   "execution_count": null,
   "metadata": {},
   "outputs": [],
   "source": [
    "#GWAS\n",
    "#caffeine\n",
    "c_gwas = hl.linear_regression_rows(y=gwasdata.pheno.CaffeineConsumption,\n",
    "                                 x=gwasdata.GT.n_alt_alleles(),\n",
    "                                 covariates=[1.0])\n",
    "#plot results\n",
    "c_result = hl.plot.manhattan(c_gwas.p_value)\n",
    "show(c_result)"
   ]
  },
  {
   "cell_type": "code",
   "execution_count": null,
   "metadata": {},
   "outputs": [],
   "source": [
    "#Run it for purple hair\n",
    "hair_gwas = hl.linear_regression_rows(y=,\n",
    "                                 x=gwasdata.GT.n_alt_alleles(),\n",
    "                                 covariates=[1.0])\n",
    "#plot results\n",
    "hair_result = hl.plot.manhattan(hair_gwas.p_value)\n",
    "show(hair_result)"
   ]
  }
 ],
 "metadata": {
  "kernelspec": {
   "display_name": "Python 3",
   "language": "python",
   "name": "python3"
  },
  "language_info": {
   "codemirror_mode": {
    "name": "ipython",
    "version": 3
   },
   "file_extension": ".py",
   "mimetype": "text/x-python",
   "name": "python",
   "nbconvert_exporter": "python",
   "pygments_lexer": "ipython3",
   "version": "3.7.8"
  }
 },
 "nbformat": 4,
 "nbformat_minor": 4
}
